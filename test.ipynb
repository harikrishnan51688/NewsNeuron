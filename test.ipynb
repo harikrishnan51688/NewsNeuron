{
 "cells": [
  {
   "cell_type": "code",
   "execution_count": null,
   "id": "30cc481b",
   "metadata": {},
   "outputs": [
    {
     "ename": "",
     "evalue": "",
     "output_type": "error",
     "traceback": [
      "\u001b[1;31mThe kernel failed to start as ' C extension module was built for another version of psutil (5.9.0 instead of 7.0.0); you may try to ' could not be imported from '5.9.0 instead of 7.0.0'.\n",
      "\u001b[1;31mClick <a href='https://aka.ms/kernelFailuresModuleImportErrFromFile'>here</a> for more info."
     ]
    }
   ],
   "source": [
    "from openai import OpenAI\n",
    "from dotenv import load_dotenv\n",
    "import os\n",
    "\n",
    "load_dotenv()\n",
    "\n",
    "client = OpenAI(\n",
    "  base_url=\"https://openrouter.ai/api/v1\",\n",
    "  api_key=os.getenv(\"OPENROUTER_API_KEY\",\n",
    "))\n",
    "\n",
    "response = client.embeddings.create(\n",
    "  model=\"text-embedding-3-small\",\n",
    "  input=\"This is a test text for generating embeddings.\")\n",
    "\n",
    "response"
   ]
  },
  {
   "cell_type": "code",
   "execution_count": 6,
   "id": "eff459ca",
   "metadata": {},
   "outputs": [
    {
     "data": {
      "text/plain": [
       "'5ada8400-4908-4d60-92a8-ac97e7144cd0'"
      ]
     },
     "execution_count": 6,
     "metadata": {},
     "output_type": "execute_result"
    }
   ],
   "source": [
    "from uuid import uuid4\n",
    "\n",
    "str(uuid4())"
   ]
  },
  {
   "cell_type": "code",
   "execution_count": 16,
   "id": "caf22825",
   "metadata": {},
   "outputs": [
    {
     "name": "stdout",
     "output_type": "stream",
     "text": [
      "['Elon Musk', 'SpaceX', 'Mars', '2030', 'NASA']\n"
     ]
    }
   ],
   "source": [
    "import spacy\n",
    "\n",
    "nlp = spacy.load(\"en_core_web_lg\")\n",
    "doc = nlp(\"Elon Musk said SpaceX plans to launch a new rocket to Mars by 2030. NASA may join the mission.\")\n",
    "print([ent.text for ent in doc.ents])\n"
   ]
  },
  {
   "cell_type": "code",
   "execution_count": 14,
   "id": "53c60e50",
   "metadata": {},
   "outputs": [
    {
     "name": "stdout",
     "output_type": "stream",
     "text": [
      "Noun phrases: ['Sebastian Thrun', 'Google', '2007', 'American', 'Thrun', 'earlier this week']\n",
      "Verbs: ['start', 'work', 'drive', 'take', 'tell', 'shake', 'turn', 'talk', 'say']\n",
      "Sebastian Thrun PERSON\n",
      "Google ORG\n",
      "2007 DATE\n",
      "American NORP\n",
      "Thrun ORG\n",
      "earlier this week DATE\n"
     ]
    }
   ],
   "source": [
    "import spacy\n",
    "\n",
    "# Load English tokenizer, tagger, parser and NER\n",
    "nlp = spacy.load(\"en_core_web_lg\")\n",
    "\n",
    "# Process whole documents\n",
    "text = (\"When Sebastian Thrun started working on self-driving cars at \"\n",
    "        \"Google in 2007, few people outside of the company took him \"\n",
    "        \"seriously. “I can tell you very senior CEOs of major American \"\n",
    "        \"car companies would shake my hand and turn away because I wasn’t \"\n",
    "        \"worth talking to,” said Thrun, in an interview with Recode earlier \"\n",
    "        \"this week.\")\n",
    "doc = nlp(text)\n",
    "\n",
    "# Analyze syntax\n",
    "print(\"Noun phrases:\", [chunk.text for chunk in doc.ents])\n",
    "print(\"Verbs:\", [token.lemma_ for token in doc if token.pos_ == \"VERB\"])\n",
    "\n",
    "# Find named entities, phrases and concepts\n",
    "for entity in doc.ents:\n",
    "    print(entity.text, entity.label_)"
   ]
  },
  {
   "cell_type": "code",
   "execution_count": 2,
   "id": "4ba1fb6a",
   "metadata": {},
   "outputs": [
    {
     "name": "stdout",
     "output_type": "stream",
     "text": [
      "Connection established.\n"
     ]
    }
   ],
   "source": [
    "from neo4j import GraphDatabase\n",
    "\n",
    "# URI examples: \"neo4j://localhost\", \"neo4j+s://xxx.databases.neo4j.io\"\n",
    "URI = \"neo4j://127.0.0.1:7687\"\n",
    "AUTH = (\"neo4j\", \"password\")\n",
    "\n",
    "with GraphDatabase.driver(URI, auth=AUTH) as driver:\n",
    "    driver.verify_connectivity()\n",
    "    print(\"Connection established.\")"
   ]
  },
  {
   "cell_type": "code",
   "execution_count": null,
   "id": "0668752c",
   "metadata": {},
   "outputs": [],
   "source": [
    "from core.config import settings\n",
    "from core.models import NewsArticle\n",
    "from retrieval.knowledge_graph import KnowledgeGraph\n",
    "from uuid import uuid4\n",
    "\n",
    "article_data = {\n",
    "    \"id\": str(uuid4()),\n",
    "    \"title\": \"Test Article\",\n",
    "    \"content\": \"This is the content of the test article.\",\n",
    "    \"summary\": \"This is a summary of the test article.\",\n",
    "    \"url\": \"http://example.com/test-article\",\n",
    "    \"source\": \"Test Source\",\n",
    "    \"author\": \"Test Author\",\n",
    "    \"published_date\": \"2023-10-01T12:00:00Z\",\n",
    "    \"categories\": [\"test\", \"article\"],\n",
    "    \"entities\": [\"test\", \"example\"],\n",
    "    \"relevance_score\": 0.95\n",
    "}\n",
    "\n",
    "article = NewsArticle(**article_data)\n",
    "\n",
    "# store = VectorStore()\n",
    "# store.insert_article(article)\n",
    "\n",
    "kg = KnowledgeGraph()\n",
    "try:\n",
    "    text = f\"{article.title} {article.summary or article.content[:500]}\"\n",
    "    kg.add_article_to_graph(text)\n",
    "finally:\n",
    "    kg.close()\n"
   ]
  },
  {
   "cell_type": "code",
   "execution_count": null,
   "id": "f6ca7b56",
   "metadata": {},
   "outputs": [
    {
     "name": "stdout",
     "output_type": "stream",
     "text": [
      "<Response [200]>\n"
     ]
    }
   ],
   "source": [
    "import requests\n",
    "\n",
    "API_KEY = os.getenv(\"GNEWS_API_KEY\")\n",
    "BASE_URL = \"https://gnews.io/api/v4/search\"\n",
    "\n",
    "params = {\n",
    "    \"q\": \"science\",\n",
    "    \"lang\": \"en\",\n",
    "    \"country\": \"in\",\n",
    "    \"max\": 10,\n",
    "    \"token\": API_KEY\n",
    "}\n",
    "\n",
    "response = requests.get(BASE_URL, params=params)\n",
    "\n",
    "print(response)"
   ]
  },
  {
   "cell_type": "code",
   "execution_count": 9,
   "id": "59f79813",
   "metadata": {},
   "outputs": [
    {
     "data": {
      "text/plain": [
       "{'id': 'afa24df3f8c07d41091fbbf198ea529a',\n",
       " 'title': 'Ganesh Chaturthi 2025: Auspicious Muhurat, Rituals, And Remedies For Success',\n",
       " 'description': 'All India Institute of Occult Science shares Ganesh Chaturthi 2025 remedies by Gurudev Shrie Kashyap Ji to remove obstacles and invite success, peace, and prosperity.',\n",
       " 'content': 'Ganesh Chaturthi 2025: Auspicious Muhurat, Rituals, And Remedies For Success\\nCurated By :\\nNews18.com\\nLast Updated: August 22, 2025, 16:08 IST\\nGanesh Chaturthi is not just a festival but a celebration of faith and positivity. For 10 days, devotees tre... [4685 chars]',\n",
       " 'url': 'https://www.news18.com/lifestyle/special-remedies-on-ganesh-chaturthi-2025-to-remove-obstacles-9521849.html',\n",
       " 'image': 'https://images.news18.com/ibnlive/uploads/2025/08/Ganesh-Chaturthi-2-2025-08-223614fc45b07f71e6ef3210a65a01f3-16x9.jpg',\n",
       " 'publishedAt': '2025-08-22T10:38:55Z',\n",
       " 'lang': 'en',\n",
       " 'source': {'id': 'ca84296ef941bfa461f4239a2290cb99',\n",
       "  'name': 'News18',\n",
       "  'url': 'https://www.news18.com',\n",
       "  'country': 'in'}}"
      ]
     },
     "execution_count": 9,
     "metadata": {},
     "output_type": "execute_result"
    }
   ],
   "source": [
    "response.json()['articles'][0]"
   ]
  }
 ],
 "metadata": {
  "kernelspec": {
   "display_name": "newsneuron",
   "language": "python",
   "name": "python3"
  },
  "language_info": {
   "codemirror_mode": {
    "name": "ipython",
    "version": 3
   },
   "file_extension": ".py",
   "mimetype": "text/x-python",
   "name": "python",
   "nbconvert_exporter": "python",
   "pygments_lexer": "ipython3",
   "version": "3.12.3"
  }
 },
 "nbformat": 4,
 "nbformat_minor": 5
}
